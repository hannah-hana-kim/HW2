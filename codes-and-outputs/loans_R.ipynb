{
 "cells": [
  {
   "cell_type": "code",
   "execution_count": 1,
   "metadata": {
    "vscode": {
     "languageId": "r"
    }
   },
   "outputs": [
    {
     "name": "stderr",
     "output_type": "stream",
     "text": [
      "-- \u001b[1mAttaching core tidyverse packages\u001b[22m ------------------------ tidyverse 2.0.0 --\n",
      "\u001b[32mv\u001b[39m \u001b[34mdplyr    \u001b[39m 1.1.3     \u001b[32mv\u001b[39m \u001b[34mreadr    \u001b[39m 2.1.4\n",
      "\u001b[32mv\u001b[39m \u001b[34mforcats  \u001b[39m 1.0.0     \u001b[32mv\u001b[39m \u001b[34mstringr  \u001b[39m 1.5.0\n",
      "\u001b[32mv\u001b[39m \u001b[34mggplot2  \u001b[39m 3.4.2     \u001b[32mv\u001b[39m \u001b[34mtibble   \u001b[39m 3.2.1\n",
      "\u001b[32mv\u001b[39m \u001b[34mlubridate\u001b[39m 1.9.2     \u001b[32mv\u001b[39m \u001b[34mtidyr    \u001b[39m 1.3.0\n",
      "\u001b[32mv\u001b[39m \u001b[34mpurrr    \u001b[39m 1.0.1     \n",
      "-- \u001b[1mConflicts\u001b[22m ------------------------------------------ tidyverse_conflicts() --\n",
      "\u001b[31mx\u001b[39m \u001b[34mdplyr\u001b[39m::\u001b[32mfilter()\u001b[39m masks \u001b[34mstats\u001b[39m::filter()\n",
      "\u001b[31mx\u001b[39m \u001b[34mdplyr\u001b[39m::\u001b[32mlag()\u001b[39m    masks \u001b[34mstats\u001b[39m::lag()\n",
      "\u001b[36mi\u001b[39m Use the conflicted package (\u001b[3m\u001b[34m<http://conflicted.r-lib.org/>\u001b[39m\u001b[23m) to force all conflicts to become errors\n"
     ]
    }
   ],
   "source": [
    "library('tidyverse')"
   ]
  },
  {
   "cell_type": "code",
   "execution_count": 1,
   "metadata": {
    "vscode": {
     "languageId": "r"
    }
   },
   "outputs": [
    {
     "name": "stderr",
     "output_type": "stream",
     "text": [
      "-- \u001b[1mAttaching core tidyverse packages\u001b[22m ------------------------ tidyverse 2.0.0 --\n",
      "\u001b[32mv\u001b[39m \u001b[34mdplyr    \u001b[39m 1.1.3     \u001b[32mv\u001b[39m \u001b[34mreadr    \u001b[39m 2.1.4\n",
      "\u001b[32mv\u001b[39m \u001b[34mforcats  \u001b[39m 1.0.0     \u001b[32mv\u001b[39m \u001b[34mstringr  \u001b[39m 1.5.0\n",
      "\u001b[32mv\u001b[39m \u001b[34mggplot2  \u001b[39m 3.4.2     \u001b[32mv\u001b[39m \u001b[34mtibble   \u001b[39m 3.2.1\n",
      "\u001b[32mv\u001b[39m \u001b[34mlubridate\u001b[39m 1.9.2     \u001b[32mv\u001b[39m \u001b[34mtidyr    \u001b[39m 1.3.0\n",
      "\u001b[32mv\u001b[39m \u001b[34mpurrr    \u001b[39m 1.0.1     \n",
      "-- \u001b[1mConflicts\u001b[22m ------------------------------------------ tidyverse_conflicts() --\n",
      "\u001b[31mx\u001b[39m \u001b[34mdplyr\u001b[39m::\u001b[32mfilter()\u001b[39m masks \u001b[34mstats\u001b[39m::filter()\n",
      "\u001b[31mx\u001b[39m \u001b[34mdplyr\u001b[39m::\u001b[32mlag()\u001b[39m    masks \u001b[34mstats\u001b[39m::lag()\n",
      "\u001b[36mi\u001b[39m Use the conflicted package (\u001b[3m\u001b[34m<http://conflicted.r-lib.org/>\u001b[39m\u001b[23m) to force all conflicts to become errors\n"
     ]
    },
    {
     "data": {
      "text/html": [
       "<table class=\"dataframe\">\n",
       "<caption>A data.frame: 6 x 25</caption>\n",
       "<thead>\n",
       "\t<tr><th></th><th scope=col>id</th><th scope=col>account_id</th><th scope=col>date</th><th scope=col>amount</th><th scope=col>payments</th><th scope=col>X24_A</th><th scope=col>X12_B</th><th scope=col>X12_A</th><th scope=col>X60_D</th><th scope=col>X48_C</th><th scope=col>...</th><th scope=col>X60_C</th><th scope=col>X24_B</th><th scope=col>X48_D</th><th scope=col>X24_D</th><th scope=col>X48_B</th><th scope=col>X36_A</th><th scope=col>X36_B</th><th scope=col>X60_B</th><th scope=col>X12_D</th><th scope=col>X60_A</th></tr>\n",
       "\t<tr><th></th><th scope=col>&lt;int&gt;</th><th scope=col>&lt;int&gt;</th><th scope=col>&lt;chr&gt;</th><th scope=col>&lt;int&gt;</th><th scope=col>&lt;int&gt;</th><th scope=col>&lt;chr&gt;</th><th scope=col>&lt;chr&gt;</th><th scope=col>&lt;chr&gt;</th><th scope=col>&lt;chr&gt;</th><th scope=col>&lt;chr&gt;</th><th scope=col>...</th><th scope=col>&lt;chr&gt;</th><th scope=col>&lt;chr&gt;</th><th scope=col>&lt;chr&gt;</th><th scope=col>&lt;chr&gt;</th><th scope=col>&lt;chr&gt;</th><th scope=col>&lt;chr&gt;</th><th scope=col>&lt;chr&gt;</th><th scope=col>&lt;chr&gt;</th><th scope=col>&lt;chr&gt;</th><th scope=col>&lt;chr&gt;</th></tr>\n",
       "</thead>\n",
       "<tbody>\n",
       "\t<tr><th scope=row>1</th><td>4959</td><td> 2</td><td>1994-01-05</td><td> 80952</td><td>3373</td><td>X</td><td>-</td><td>-</td><td>-</td><td>-</td><td>...</td><td>-</td><td>-</td><td>-</td><td>-</td><td>-</td><td>-</td><td>-</td><td>-</td><td>-</td><td>-</td></tr>\n",
       "\t<tr><th scope=row>2</th><td>4961</td><td>19</td><td>1996-04-29</td><td> 30276</td><td>2523</td><td>-</td><td>X</td><td>-</td><td>-</td><td>-</td><td>...</td><td>-</td><td>-</td><td>-</td><td>-</td><td>-</td><td>-</td><td>-</td><td>-</td><td>-</td><td>-</td></tr>\n",
       "\t<tr><th scope=row>3</th><td>4962</td><td>25</td><td>1997-12-08</td><td> 30276</td><td>2523</td><td>-</td><td>-</td><td>X</td><td>-</td><td>-</td><td>...</td><td>-</td><td>-</td><td>-</td><td>-</td><td>-</td><td>-</td><td>-</td><td>-</td><td>-</td><td>-</td></tr>\n",
       "\t<tr><th scope=row>4</th><td>4967</td><td>37</td><td>1998-10-14</td><td>318480</td><td>5308</td><td>-</td><td>-</td><td>-</td><td>X</td><td>-</td><td>...</td><td>-</td><td>-</td><td>-</td><td>-</td><td>-</td><td>-</td><td>-</td><td>-</td><td>-</td><td>-</td></tr>\n",
       "\t<tr><th scope=row>5</th><td>4968</td><td>38</td><td>1998-04-19</td><td>110736</td><td>2307</td><td>-</td><td>-</td><td>-</td><td>-</td><td>X</td><td>...</td><td>-</td><td>-</td><td>-</td><td>-</td><td>-</td><td>-</td><td>-</td><td>-</td><td>-</td><td>-</td></tr>\n",
       "\t<tr><th scope=row>6</th><td>4973</td><td>67</td><td>1996-05-02</td><td>165960</td><td>6915</td><td>X</td><td>-</td><td>-</td><td>-</td><td>-</td><td>...</td><td>-</td><td>-</td><td>-</td><td>-</td><td>-</td><td>-</td><td>-</td><td>-</td><td>-</td><td>-</td></tr>\n",
       "</tbody>\n",
       "</table>\n"
      ],
      "text/latex": [
       "A data.frame: 6 x 25\n",
       "\\begin{tabular}{r|lllllllllllllllllllll}\n",
       "  & id & account\\_id & date & amount & payments & X24\\_A & X12\\_B & X12\\_A & X60\\_D & X48\\_C & ... & X60\\_C & X24\\_B & X48\\_D & X24\\_D & X48\\_B & X36\\_A & X36\\_B & X60\\_B & X12\\_D & X60\\_A\\\\\n",
       "  & <int> & <int> & <chr> & <int> & <int> & <chr> & <chr> & <chr> & <chr> & <chr> & ... & <chr> & <chr> & <chr> & <chr> & <chr> & <chr> & <chr> & <chr> & <chr> & <chr>\\\\\n",
       "\\hline\n",
       "\t1 & 4959 &  2 & 1994-01-05 &  80952 & 3373 & X & - & - & - & - & ... & - & - & - & - & - & - & - & - & - & -\\\\\n",
       "\t2 & 4961 & 19 & 1996-04-29 &  30276 & 2523 & - & X & - & - & - & ... & - & - & - & - & - & - & - & - & - & -\\\\\n",
       "\t3 & 4962 & 25 & 1997-12-08 &  30276 & 2523 & - & - & X & - & - & ... & - & - & - & - & - & - & - & - & - & -\\\\\n",
       "\t4 & 4967 & 37 & 1998-10-14 & 318480 & 5308 & - & - & - & X & - & ... & - & - & - & - & - & - & - & - & - & -\\\\\n",
       "\t5 & 4968 & 38 & 1998-04-19 & 110736 & 2307 & - & - & - & - & X & ... & - & - & - & - & - & - & - & - & - & -\\\\\n",
       "\t6 & 4973 & 67 & 1996-05-02 & 165960 & 6915 & X & - & - & - & - & ... & - & - & - & - & - & - & - & - & - & -\\\\\n",
       "\\end{tabular}\n"
      ],
      "text/markdown": [
       "\n",
       "A data.frame: 6 x 25\n",
       "\n",
       "| <!--/--> | id &lt;int&gt; | account_id &lt;int&gt; | date &lt;chr&gt; | amount &lt;int&gt; | payments &lt;int&gt; | X24_A &lt;chr&gt; | X12_B &lt;chr&gt; | X12_A &lt;chr&gt; | X60_D &lt;chr&gt; | X48_C &lt;chr&gt; | ... ... | X60_C &lt;chr&gt; | X24_B &lt;chr&gt; | X48_D &lt;chr&gt; | X24_D &lt;chr&gt; | X48_B &lt;chr&gt; | X36_A &lt;chr&gt; | X36_B &lt;chr&gt; | X60_B &lt;chr&gt; | X12_D &lt;chr&gt; | X60_A &lt;chr&gt; |\n",
       "|---|---|---|---|---|---|---|---|---|---|---|---|---|---|---|---|---|---|---|---|---|---|\n",
       "| 1 | 4959 |  2 | 1994-01-05 |  80952 | 3373 | X | - | - | - | - | ... | - | - | - | - | - | - | - | - | - | - |\n",
       "| 2 | 4961 | 19 | 1996-04-29 |  30276 | 2523 | - | X | - | - | - | ... | - | - | - | - | - | - | - | - | - | - |\n",
       "| 3 | 4962 | 25 | 1997-12-08 |  30276 | 2523 | - | - | X | - | - | ... | - | - | - | - | - | - | - | - | - | - |\n",
       "| 4 | 4967 | 37 | 1998-10-14 | 318480 | 5308 | - | - | - | X | - | ... | - | - | - | - | - | - | - | - | - | - |\n",
       "| 5 | 4968 | 38 | 1998-04-19 | 110736 | 2307 | - | - | - | - | X | ... | - | - | - | - | - | - | - | - | - | - |\n",
       "| 6 | 4973 | 67 | 1996-05-02 | 165960 | 6915 | X | - | - | - | - | ... | - | - | - | - | - | - | - | - | - | - |\n",
       "\n"
      ],
      "text/plain": [
       "  id   account_id date       amount payments X24_A X12_B X12_A X60_D X48_C ...\n",
       "1 4959  2         1994-01-05  80952 3373     X     -     -     -     -     ...\n",
       "2 4961 19         1996-04-29  30276 2523     -     X     -     -     -     ...\n",
       "3 4962 25         1997-12-08  30276 2523     -     -     X     -     -     ...\n",
       "4 4967 37         1998-10-14 318480 5308     -     -     -     X     -     ...\n",
       "5 4968 38         1998-04-19 110736 2307     -     -     -     -     X     ...\n",
       "6 4973 67         1996-05-02 165960 6915     X     -     -     -     -     ...\n",
       "  X60_C X24_B X48_D X24_D X48_B X36_A X36_B X60_B X12_D X60_A\n",
       "1 -     -     -     -     -     -     -     -     -     -    \n",
       "2 -     -     -     -     -     -     -     -     -     -    \n",
       "3 -     -     -     -     -     -     -     -     -     -    \n",
       "4 -     -     -     -     -     -     -     -     -     -    \n",
       "5 -     -     -     -     -     -     -     -     -     -    \n",
       "6 -     -     -     -     -     -     -     -     -     -    "
      ]
     },
     "metadata": {},
     "output_type": "display_data"
    }
   ],
   "source": [
    "library('tidyverse')\n",
    "\n",
    "# READ THE DATA\n",
    "df <- read.csv(\"../data/loans.csv\")\n",
    "head(df)"
   ]
  }
 ],
 "metadata": {
  "kernelspec": {
   "display_name": "R",
   "language": "R",
   "name": "ir"
  },
  "language_info": {
   "codemirror_mode": "r",
   "file_extension": ".r",
   "mimetype": "text/x-r-source",
   "name": "R",
   "pygments_lexer": "r",
   "version": "4.2.1"
  },
  "orig_nbformat": 4
 },
 "nbformat": 4,
 "nbformat_minor": 2
}
