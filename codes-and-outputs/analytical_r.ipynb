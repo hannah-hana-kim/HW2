{
 "cells": [
  {
   "cell_type": "code",
   "execution_count": 11,
   "metadata": {
    "vscode": {
     "languageId": "r"
    }
   },
   "outputs": [],
   "source": [
    "library('tidyverse')\n",
    "library('reshape2')"
   ]
  },
  {
   "cell_type": "code",
   "execution_count": 12,
   "metadata": {
    "vscode": {
     "languageId": "r"
    }
   },
   "outputs": [],
   "source": [
    "# READ THE DATA\n",
    "df <- read.csv(\"../data/accounts.csv\")\n",
    "\n",
    "# RENAME THE ID COLUMN\n",
    "df <- df %>% rename(account_id = id)\n",
    "df <- df %>% rename(open_date = date)"
   ]
  },
  {
   "cell_type": "code",
   "execution_count": 13,
   "metadata": {
    "vscode": {
     "languageId": "r"
    }
   },
   "outputs": [
    {
     "name": "stdout",
     "output_type": "stream",
     "text": [
      "         account_id         district_id           open_date statement_frequency \n",
      "                  0                   0                   0                   0 \n"
     ]
    }
   ],
   "source": [
    "# REMOVE SPACES FROM COLUMN NAMES\n",
    "colnames(df) <- gsub(\" \", \"\", colnames(df))\n",
    "\n",
    "# COUNT THE NUMBER OF MISSING VALUES IN EACH COLUMN; none\n",
    "missing_values_num <- colSums(is.na(df))\n",
    "print(missing_values_num)"
   ]
  },
  {
   "cell_type": "code",
   "execution_count": 15,
   "metadata": {
    "vscode": {
     "languageId": "r"
    }
   },
   "outputs": [],
   "source": [
    "# TYPE CAST THE MATRIX TO DATA FRAME\n",
    "df <- as.data.frame(df)"
   ]
  },
  {
   "cell_type": "code",
   "execution_count": 16,
   "metadata": {
    "vscode": {
     "languageId": "r"
    }
   },
   "outputs": [],
   "source": [
    "# TYPE CAST THE DATE COLUMN\n",
    "df$open_date <- as.Date(df$open_date, format = \"%d/%b/%Y\")"
   ]
  },
  {
   "cell_type": "code",
   "execution_count": null,
   "metadata": {
    "vscode": {
     "languageId": "r"
    }
   },
   "outputs": [],
   "source": []
  }
 ],
 "metadata": {
  "kernelspec": {
   "display_name": "R",
   "language": "R",
   "name": "ir"
  },
  "language_info": {
   "codemirror_mode": "r",
   "file_extension": ".r",
   "mimetype": "text/x-r-source",
   "name": "R",
   "pygments_lexer": "r",
   "version": "4.2.1"
  },
  "orig_nbformat": 4
 },
 "nbformat": 4,
 "nbformat_minor": 2
}
